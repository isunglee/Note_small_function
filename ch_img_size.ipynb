{
 "cells": [
  {
   "cell_type": "code",
   "execution_count": 1,
   "metadata": {
    "collapsed": false
   },
   "outputs": [],
   "source": [
    "import os\n",
    "from PIL import Image\n",
    "import glob\n",
    "img_dir = 'images'\n",
    "sub_dirs = [p[0] for p in os.walk(img_dir)]\n",
    "is_root = True\n",
    "new_size = (40, 40)\n",
    "for p in sub_dirs:\n",
    "    if is_root :\n",
    "        is_root = False\n",
    "        continue\n",
    "    sub_dir = os.path.basename(p)\n",
    "    file_glob = os.path.join(img_dir, sub_dir, '*.jpg')\n",
    "    img_files = glob.glob(file_glob)\n",
    "    for img_file in img_files:\n",
    "        img_name = os.path.basename(img_file)\n",
    "        img_n_name = img_name.split('.')[0]\n",
    "        im = Image.open(img_file)\n",
    "        nim = im.resize(new_size, Image.BILINEAR)\n",
    "        new_path = p+'/'+img_n_name+'.jpg'\n",
    "        nim.save(new_path)"
   ]
  }
 ],
 "metadata": {
  "kernelspec": {
   "display_name": "Python 2",
   "language": "python",
   "name": "python2"
  },
  "language_info": {
   "codemirror_mode": {
    "name": "ipython",
    "version": 2
   },
   "file_extension": ".py",
   "mimetype": "text/x-python",
   "name": "python",
   "nbconvert_exporter": "python",
   "pygments_lexer": "ipython2",
   "version": "2.7.6"
  }
 },
 "nbformat": 4,
 "nbformat_minor": 0
}
